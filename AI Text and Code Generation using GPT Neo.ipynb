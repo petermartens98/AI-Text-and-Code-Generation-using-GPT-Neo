{
 "cells": [
  {
   "cell_type": "markdown",
   "id": "deaf28e3",
   "metadata": {},
   "source": [
    "# AI text and code generation using GPT-Neo"
   ]
  },
  {
   "cell_type": "markdown",
   "id": "ef4df560",
   "metadata": {},
   "source": [
    "## Import Dependencies"
   ]
  },
  {
   "cell_type": "code",
   "execution_count": 7,
   "id": "4ac8ce47",
   "metadata": {},
   "outputs": [],
   "source": [
    "from transformers import pipeline"
   ]
  },
  {
   "cell_type": "markdown",
   "id": "ee7bf24b",
   "metadata": {},
   "source": [
    "## Define and set up generator"
   ]
  },
  {
   "cell_type": "code",
   "execution_count": 9,
   "id": "ce902766",
   "metadata": {},
   "outputs": [
    {
     "data": {
      "application/vnd.jupyter.widget-view+json": {
       "model_id": "45c2cbffb335418d83616c6562e6f996",
       "version_major": 2,
       "version_minor": 0
      },
      "text/plain": [
       "Downloading:   0%|          | 0.00/1.42k [00:00<?, ?B/s]"
      ]
     },
     "metadata": {},
     "output_type": "display_data"
    },
    {
     "data": {
      "application/vnd.jupyter.widget-view+json": {
       "model_id": "e1409bc3d41c4e5186613827c706def9",
       "version_major": 2,
       "version_minor": 0
      },
      "text/plain": [
       "Downloading:   0%|          | 0.00/9.94G [00:00<?, ?B/s]"
      ]
     },
     "metadata": {},
     "output_type": "display_data"
    },
    {
     "data": {
      "application/vnd.jupyter.widget-view+json": {
       "model_id": "d7068a39aa2b4c01b34e1f5f61bdca23",
       "version_major": 2,
       "version_minor": 0
      },
      "text/plain": [
       "Downloading:   0%|          | 0.00/200 [00:00<?, ?B/s]"
      ]
     },
     "metadata": {},
     "output_type": "display_data"
    },
    {
     "data": {
      "application/vnd.jupyter.widget-view+json": {
       "model_id": "26971b3ef485491c9795da78e5500121",
       "version_major": 2,
       "version_minor": 0
      },
      "text/plain": [
       "Downloading:   0%|          | 0.00/779k [00:00<?, ?B/s]"
      ]
     },
     "metadata": {},
     "output_type": "display_data"
    },
    {
     "data": {
      "application/vnd.jupyter.widget-view+json": {
       "model_id": "7b27224c50884f27af5215c9082ef404",
       "version_major": 2,
       "version_minor": 0
      },
      "text/plain": [
       "Downloading:   0%|          | 0.00/446k [00:00<?, ?B/s]"
      ]
     },
     "metadata": {},
     "output_type": "display_data"
    },
    {
     "data": {
      "application/vnd.jupyter.widget-view+json": {
       "model_id": "e00a868621ad406a8a3f834ba484f61e",
       "version_major": 2,
       "version_minor": 0
      },
      "text/plain": [
       "Downloading:   0%|          | 0.00/90.0 [00:00<?, ?B/s]"
      ]
     },
     "metadata": {},
     "output_type": "display_data"
    }
   ],
   "source": [
    "generator = pipeline('text-generation', model='EleutherAI/gpt-neo-2.7B')"
   ]
  },
  {
   "cell_type": "markdown",
   "id": "a37bfbd5",
   "metadata": {},
   "source": [
    "## Generate Text using Prompt"
   ]
  },
  {
   "cell_type": "code",
   "execution_count": 23,
   "id": "8f5cf71e",
   "metadata": {},
   "outputs": [
    {
     "name": "stderr",
     "output_type": "stream",
     "text": [
      "The attention mask and the pad token id were not set. As a consequence, you may observe unexpected behavior. Please pass your input's `attention_mask` to obtain reliable results.\n",
      "Setting `pad_token_id` to `eos_token_id`:50256 for open-end generation.\n"
     ]
    },
    {
     "name": "stdout",
     "output_type": "stream",
     "text": [
      "Are you conscious?\n",
      "\n",
      "You’ve been on the bed for a few minutes now and you’re staring at the ceiling with your eyes closed. Maybe you’re staring at the ceiling because you’re trying to sleep. Perhaps you’re trying to figure out if your thoughts are coherent, or if the thoughts themselves are so disjointed and incoherent that only dreams can make sense. Whatever is happening, it’s hard to tell.\n",
      "\n",
      "You can’t see anything past the white light on the ceiling. The bright, white light is a spotlight, and you’re watching\n"
     ]
    }
   ],
   "source": [
    "prompt = \"Are you conscious?\"\n",
    "res = generator(prompt, max_length=130, so_sample=True, temperature=0.9)\n",
    "print(res[0]['generated_text'])"
   ]
  },
  {
   "cell_type": "code",
   "execution_count": 48,
   "id": "16042911",
   "metadata": {},
   "outputs": [
    {
     "name": "stderr",
     "output_type": "stream",
     "text": [
      "The attention mask and the pad token id were not set. As a consequence, you may observe unexpected behavior. Please pass your input's `attention_mask` to obtain reliable results.\n",
      "Setting `pad_token_id` to `eos_token_id`:50256 for open-end generation.\n"
     ]
    },
    {
     "name": "stdout",
     "output_type": "stream",
     "text": [
      "Hello, how are you?\n",
      "Good, thank you very much!\n",
      "It's been quite a while.\n",
      "I am happy to see you\n",
      "\n"
     ]
    }
   ],
   "source": [
    "prompt = \"Hello, how are you?\"\n",
    "res = generator(prompt, max_length=30, so_sample=True, temperature=0.8)\n",
    "print(res[0]['generated_text'])"
   ]
  },
  {
   "cell_type": "code",
   "execution_count": 63,
   "id": "2de4dd3f",
   "metadata": {},
   "outputs": [
    {
     "name": "stderr",
     "output_type": "stream",
     "text": [
      "The attention mask and the pad token id were not set. As a consequence, you may observe unexpected behavior. Please pass your input's `attention_mask` to obtain reliable results.\n",
      "Setting `pad_token_id` to `eos_token_id`:50256 for open-end generation.\n"
     ]
    },
    {
     "name": "stdout",
     "output_type": "stream",
     "text": [
      "joke. It’s also where you have to put your name down, so let’s say ‘James and Michael’ and make a joke out of that. I think there was an old joke where they were making a phone call, and there are two people on the other end, and they say, ‘Can you dial, please? We’ve got a real busy minute,’ meaning they’re trying to get two people, but there\n"
     ]
    }
   ],
   "source": [
    "prompt = \"joke\"\n",
    "res = generator(prompt, max_length=100, so_sample=True, temperature=0.9)\n",
    "print(res[0]['generated_text'])"
   ]
  },
  {
   "cell_type": "code",
   "execution_count": 51,
   "id": "b83b1d2e",
   "metadata": {},
   "outputs": [
    {
     "name": "stderr",
     "output_type": "stream",
     "text": [
      "The attention mask and the pad token id were not set. As a consequence, you may observe unexpected behavior. Please pass your input's `attention_mask` to obtain reliable results.\n",
      "Setting `pad_token_id` to `eos_token_id`:50256 for open-end generation.\n"
     ]
    },
    {
     "name": "stdout",
     "output_type": "stream",
     "text": [
      "dogs or cats? They're a common sight, usually sitting beside the road or in the open countryside. Many have been maimed and killed by collisions with cars or trucks, and the rest have become the prey of a small but growing band of\n"
     ]
    }
   ],
   "source": [
    "prompt = \"dogs or cats?\"\n",
    "res = generator(prompt, max_length=50, so_sample=True, temperature=0.8)\n",
    "print(res[0]['generated_text'])"
   ]
  },
  {
   "cell_type": "code",
   "execution_count": 33,
   "id": "0f62af4a",
   "metadata": {},
   "outputs": [
    {
     "name": "stderr",
     "output_type": "stream",
     "text": [
      "The attention mask and the pad token id were not set. As a consequence, you may observe unexpected behavior. Please pass your input's `attention_mask` to obtain reliable results.\n",
      "Setting `pad_token_id` to `eos_token_id`:50256 for open-end generation.\n"
     ]
    },
    {
     "name": "stdout",
     "output_type": "stream",
     "text": [
      "Is sugar healthy?\n",
      "\n",
      "Sugar is a simple carbohydrate found in various foods that are sweetened with either fructose or sucrose.\n",
      "\n",
      "We don’t need to worry about sugar being bad for us. Sugar is found in many foods that are good for us. Sugar is good for you.\n",
      "\n",
      "When you eat sugar there are three things that happen:\n",
      "\n",
      "Your body absorbs the sugar,\n",
      "\n",
      "The sugar is converted into energy for you, and\n",
      "\n",
      "You release energy back into your body.\n",
      "\n",
      "The body converts the sugar into energy.\n",
      "\n",
      "The conversion of sugar into energy releases energy and this energy is used\n"
     ]
    }
   ],
   "source": [
    "prompt = \"Is sugar healthy?\"\n",
    "res = generator(prompt, max_length=130, so_sample=True, temperature=0.7)\n",
    "print(res[0]['generated_text'])"
   ]
  },
  {
   "cell_type": "markdown",
   "id": "8b131d2a",
   "metadata": {},
   "source": [
    "## Generate Python Code using prompt"
   ]
  },
  {
   "cell_type": "code",
   "execution_count": 55,
   "id": "f7f9965f",
   "metadata": {},
   "outputs": [
    {
     "name": "stderr",
     "output_type": "stream",
     "text": [
      "The attention mask and the pad token id were not set. As a consequence, you may observe unexpected behavior. Please pass your input's `attention_mask` to obtain reliable results.\n",
      "Setting `pad_token_id` to `eos_token_id`:50256 for open-end generation.\n"
     ]
    },
    {
     "name": "stdout",
     "output_type": "stream",
     "text": [
      "import numpy as np\n",
      "import os\n",
      "import sys\n",
      "from collections import defaultdict\n",
      "from scipy.special import expit\n",
      "from scipy.special import gamma\n",
      "from scipy import optimize\n",
      "from scipy.optimize import minimize\n",
      "from scipy.optimize.minimize import fmin_bfgs_b\n",
      "from scipy.optimize.linear_model import lasso, lasso_solver, lasso_solver_\n"
     ]
    }
   ],
   "source": [
    "prompt = \"import numpy as np\"\n",
    "res = generator(prompt, max_length=100, so_sample=True, temperature=0.7)\n",
    "print(res[0]['generated_text'])"
   ]
  },
  {
   "cell_type": "code",
   "execution_count": 62,
   "id": "32f0256d",
   "metadata": {},
   "outputs": [
    {
     "name": "stderr",
     "output_type": "stream",
     "text": [
      "The attention mask and the pad token id were not set. As a consequence, you may observe unexpected behavior. Please pass your input's `attention_mask` to obtain reliable results.\n",
      "Setting `pad_token_id` to `eos_token_id`:50256 for open-end generation.\n"
     ]
    },
    {
     "name": "stdout",
     "output_type": "stream",
     "text": [
      "import pandas as pd \n",
      "df = pd.DataFrame({'a':[1,1,1,2,2,2,3,3,3,3],\n",
      "                  'b':[10,9,11,12,14,13,15,13,12,11]\n",
      "                 \n"
     ]
    }
   ],
   "source": [
    "prompt = \"import pandas as pd\"\n",
    "res = generator(prompt, max_length=100, so_sample=True, temperature=0.9)\n",
    "print(res[0]['generated_text'])"
   ]
  }
 ],
 "metadata": {
  "kernelspec": {
   "display_name": "Python 3 (ipykernel)",
   "language": "python",
   "name": "python3"
  },
  "language_info": {
   "codemirror_mode": {
    "name": "ipython",
    "version": 3
   },
   "file_extension": ".py",
   "mimetype": "text/x-python",
   "name": "python",
   "nbconvert_exporter": "python",
   "pygments_lexer": "ipython3",
   "version": "3.9.12"
  }
 },
 "nbformat": 4,
 "nbformat_minor": 5
}
